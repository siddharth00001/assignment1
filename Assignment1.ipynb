{
 "cells": [
  {
   "cell_type": "markdown",
   "id": "1d4808f3-8733-4d96-af40-8ef3bd4c8c1c",
   "metadata": {},
   "source": [
    "## Q1"
   ]
  },
  {
   "cell_type": "markdown",
   "id": "c8a12913-18a0-4930-9266-f5dca6315d0c",
   "metadata": {},
   "source": [
    "It was initially designed by Guido van Rossum in 1991 and developed by Python Software Foundation. \n",
    "It was mainly developed for emphasis on code readability,\n",
    "and its syntax allows programmers to express concepts in fewer lines of code"
   ]
  },
  {
   "cell_type": "markdown",
   "id": "413f6006-a460-49e0-a1b8-87ae430a7a38",
   "metadata": {},
   "source": [
    "## Q2"
   ]
  },
  {
   "cell_type": "markdown",
   "id": "4fca2282-3a89-49c2-86e6-2f9ba9c3d094",
   "metadata": {},
   "source": [
    "Python supports both scripting as well as object oriented programming."
   ]
  },
  {
   "cell_type": "markdown",
   "id": "4c8b8104-bb98-493d-9879-ae5876f12344",
   "metadata": {},
   "source": [
    "## Q3"
   ]
  },
  {
   "cell_type": "markdown",
   "id": "8175198d-480e-4609-83d3-45b1ed7dd11f",
   "metadata": {},
   "source": [
    "Yes Python is case sensitive when dealing with identifiers."
   ]
  },
  {
   "cell_type": "markdown",
   "id": "f5bf034c-2642-4e0a-9be1-496208b09d4c",
   "metadata": {},
   "source": [
    "## Q4"
   ]
  },
  {
   "cell_type": "markdown",
   "id": "63e33ed3-d556-4462-8fad-5b4f9dc182a9",
   "metadata": {},
   "source": [
    "The extensions for Python files are - .py, .pyi, .pyc, .pyd, .pyo, .pyw, and .pyz. It is\n",
    "used for multiple purpouse such as web developement, data science and app developement."
   ]
  },
  {
   "cell_type": "markdown",
   "id": "5b45a2f5-c6c6-436e-8707-6b816e7147d5",
   "metadata": {},
   "source": [
    "## Q5"
   ]
  },
  {
   "cell_type": "markdown",
   "id": "22c3fbe4-6db8-4672-b4a7-1c5fa0408628",
   "metadata": {},
   "source": [
    "Python is an interpreted language."
   ]
  },
  {
   "cell_type": "markdown",
   "id": "d258d836-d061-4736-88e5-cd06c93c1645",
   "metadata": {},
   "source": [
    "## Q6"
   ]
  },
  {
   "cell_type": "markdown",
   "id": "638e40e9-e1d9-4354-b6e5-f337c174d99f",
   "metadata": {},
   "source": [
    "Indentation is used to define a block of code in python."
   ]
  },
  {
   "cell_type": "markdown",
   "id": "d0f360ba-60f4-4daa-9d39-7b8f2c1ee8ba",
   "metadata": {},
   "source": [
    "## Q7"
   ]
  },
  {
   "cell_type": "markdown",
   "id": "8812ef5d-c414-4860-a2fb-92574eb3b0c9",
   "metadata": {},
   "source": [
    "Single Line comments can be given by using a special character ##. We can also give multi\n",
    "Line comments using \"\"\"\"\"\"\"."
   ]
  },
  {
   "cell_type": "markdown",
   "id": "c6b1d26c-3361-48a1-919d-c63c41e97d28",
   "metadata": {},
   "source": [
    "## Q8"
   ]
  },
  {
   "cell_type": "markdown",
   "id": "6028d5dc-2466-4852-823c-3bf1bec6067a",
   "metadata": {},
   "source": [
    "python --version or python -v can be used to check current python version."
   ]
  },
  {
   "cell_type": "markdown",
   "id": "97b4ef83-b050-4f4a-b806-21ae1fb6be02",
   "metadata": {},
   "source": [
    "## Q9"
   ]
  },
  {
   "cell_type": "markdown",
   "id": "0041ba7c-0143-4307-8325-3f5c40f486b0",
   "metadata": {},
   "source": [
    "Python supports the creation of anonymous functions (i.e. functions that are not bound to a name) at runtime, using a construct called lambda."
   ]
  },
  {
   "cell_type": "markdown",
   "id": "6ba78aff-a9c7-49eb-8c2a-457150a98f1c",
   "metadata": {},
   "source": [
    "## Q10"
   ]
  },
  {
   "cell_type": "markdown",
   "id": "3250980e-6401-4efc-848c-2117e2ed7c9f",
   "metadata": {},
   "source": [
    "pip stands for preferred installer program. PIP is a package management system used to install and manage software packages written in Python."
   ]
  },
  {
   "cell_type": "markdown",
   "id": "43872b13-5f03-461e-a870-5be78d028a62",
   "metadata": {},
   "source": [
    "## Q11"
   ]
  },
  {
   "cell_type": "markdown",
   "id": "35124070-aa5d-48a7-9ec4-6bbc582b81a6",
   "metadata": {},
   "source": [
    "Some of the Builtin functions are enumerate(),list(),len(),dict(),map(),print() and range()."
   ]
  },
  {
   "cell_type": "markdown",
   "id": "b18237ec-a0e8-4519-adf2-a06fe49df73b",
   "metadata": {},
   "source": [
    "## Q12"
   ]
  },
  {
   "cell_type": "markdown",
   "id": "ed4a0df1-5931-4ac2-b8e5-f6bec678bab6",
   "metadata": {},
   "source": [
    "The maximum possible length of an identifier in python is 79 characters."
   ]
  },
  {
   "cell_type": "markdown",
   "id": "57b563dc-b704-4502-bb51-18b8ef5125a1",
   "metadata": {},
   "source": [
    "## Q13"
   ]
  },
  {
   "cell_type": "markdown",
   "id": "ab12eea7-d13c-48c9-9942-f7f190235188",
   "metadata": {},
   "source": [
    "Benefits of python is it is a versatile Language as it can be used in app developement,web developement and data\n",
    "science. It is very easy to use as syntax of the language is similar to english language so easy to leaen as well.\n",
    "It also has a very concise syntax means write less and do more."
   ]
  },
  {
   "cell_type": "markdown",
   "id": "4733e0ea-370e-4369-999c-1751191449f1",
   "metadata": {},
   "source": [
    "## Q14"
   ]
  },
  {
   "cell_type": "markdown",
   "id": "135dbd24-9870-4d66-a192-7fcd643862e0",
   "metadata": {},
   "source": [
    "In python we have python memory manager which allocates a space to an object  inside the private heap memory\n",
    "and pmm also assign a address to object which is then passsed to a variable inside stack memory. We also doesn't need to manually release the object it is automatically done inside python by garbage collector."
   ]
  },
  {
   "cell_type": "markdown",
   "id": "2b29996f-9635-49d0-9bf3-bd4a0b293172",
   "metadata": {},
   "source": [
    "## Q15"
   ]
  },
  {
   "cell_type": "markdown",
   "id": "6548438d-cfaa-471e-a2a7-de637c417c8a",
   "metadata": {},
   "source": [
    "We can go to the website https://www.python.org/ to download python at the time of installation we can mention to add it in path variable. Also we can add the python to path variable using enviorment variables and mention it inside the path variable where our python is available inside our computer."
   ]
  },
  {
   "cell_type": "markdown",
   "id": "9bdb2952-96e0-45b7-90f1-bcb818b10fd5",
   "metadata": {},
   "source": [
    "## Q16"
   ]
  },
  {
   "cell_type": "markdown",
   "id": "207be473-f197-4a13-ac23-be8b3a969450",
   "metadata": {},
   "source": [
    "Yes indentation is mandatory it is used to mention the block of code for execution."
   ]
  }
 ],
 "metadata": {
  "kernelspec": {
   "display_name": "Python 3 (ipykernel)",
   "language": "python",
   "name": "python3"
  },
  "language_info": {
   "codemirror_mode": {
    "name": "ipython",
    "version": 3
   },
   "file_extension": ".py",
   "mimetype": "text/x-python",
   "name": "python",
   "nbconvert_exporter": "python",
   "pygments_lexer": "ipython3",
   "version": "3.10.8"
  }
 },
 "nbformat": 4,
 "nbformat_minor": 5
}
